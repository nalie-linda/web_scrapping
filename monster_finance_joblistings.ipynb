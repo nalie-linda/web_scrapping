{
 "cells": [
  {
   "cell_type": "code",
   "execution_count": 4,
   "metadata": {},
   "outputs": [],
   "source": [
    "# In this project, i scrape the monster.com website for finance job listings,companies and their locations.\n",
    "import requests\n",
    "from bs4 import BeautifulSoup\n",
    "import pandas as pd\n"
   ]
  },
  {
   "cell_type": "code",
   "execution_count": 14,
   "metadata": {},
   "outputs": [],
   "source": [
    "#trial function to automatically make soup from a page number you pass it\n",
    "#def extract(page):\n",
    "   # url= 'https://www.monster.com/jobs/q-finance-jobs?page={}'\n",
    "    #response = requests.get(url)\n",
    "    #soup = BeautifulSoup(response.content, 'html.parser')\n",
    "    #return soup"
   ]
  },
  {
   "cell_type": "code",
   "execution_count": 28,
   "metadata": {},
   "outputs": [],
   "source": [
    "#scrapes web page of interest and returns a soup object from the page\n",
    "#extract(4)"
   ]
  },
  {
   "cell_type": "markdown",
   "metadata": {},
   "source": [
    "#### Exploring the HTML tags\n",
    "The data of interest; ie **Job title**, **company** and **location** are all inside html tags therefore we inspect the webpage and identify the tags.\n",
    " \n",
    "                                                                         "
   ]
  },
  {
   "cell_type": "code",
   "execution_count": 62,
   "metadata": {},
   "outputs": [
    {
     "data": {
      "text/plain": [
       "'Finance Jobs | Monster.com'"
      ]
     },
     "execution_count": 62,
     "metadata": {},
     "output_type": "execute_result"
    }
   ],
   "source": [
    "url= 'https://www.monster.com/jobs/q-finance-jobs?page=5'\n",
    "response = requests.get(url)\n",
    "soup = BeautifulSoup(response.content, 'html.parser')\n",
    "soup.title.string"
   ]
  },
  {
   "cell_type": "code",
   "execution_count": 63,
   "metadata": {},
   "outputs": [],
   "source": [
    "#soup.find_all('section')"
   ]
  },
  {
   "cell_type": "code",
   "execution_count": 64,
   "metadata": {},
   "outputs": [
    {
     "data": {
      "text/plain": [
       "['SYSCO',\n",
       " 'Randstad USA',\n",
       " 'SYSCO',\n",
       " 'Verizon',\n",
       " 'Cox Automotive',\n",
       " 'Republic Finance',\n",
       " 'Virginia Commonwealth University',\n",
       " 'Stark County Community Action Agency',\n",
       " 'CHRISTUS Health']"
      ]
     },
     "execution_count": 64,
     "metadata": {},
     "output_type": "execute_result"
    }
   ],
   "source": [
    "#company details\n",
    "comp = soup.find_all(class_ = \"job-cardstyle__JobCardCompany-sc-1mbmxes-3 iYiJvS\")\n",
    "\n",
    "company_list = [link.get_text().strip() for link in comp]\n",
    "\n",
    "company_list"
   ]
  },
  {
   "cell_type": "code",
   "execution_count": 65,
   "metadata": {},
   "outputs": [
    {
     "data": {
      "text/plain": [
       "['Finance Manager',\n",
       " 'Financial Analyst - Sr',\n",
       " 'Finance Analyst',\n",
       " 'Senior Financial Services Analyst',\n",
       " 'Senior Financial Analyst',\n",
       " 'Sr. Consumer Loan Specialist - Sales Customer Service',\n",
       " 'Senior Financial Technician',\n",
       " 'Finance Director',\n",
       " 'Patient Financial Specialist Lead - Hospital Collections']"
      ]
     },
     "execution_count": 65,
     "metadata": {},
     "output_type": "execute_result"
    }
   ],
   "source": [
    "Title = soup.find_all(class_=\"cached-bot-shared-skeletonstyle__CachedSkeletonCardHeaderTitle-sc-15ar3p6-3 ufRPw\")\n",
    "\n",
    "job_title = [j.get_text().strip() for j in Title]\n",
    "\n",
    "job_title"
   ]
  },
  {
   "cell_type": "code",
   "execution_count": 66,
   "metadata": {},
   "outputs": [
    {
     "name": "stdout",
     "output_type": "stream",
     "text": [
      "['Winchester, VA', 'Oakland, CA', 'Smyrna, GA', 'Remote, FL', 'Atlanta, GA', 'Union City, GA', 'Richmond, VA', 'Canton, OH', 'Houston, TX']\n"
     ]
    }
   ],
   "source": [
    "#Location details\n",
    "locate = soup.find_all(class_=\"job-cardstyle__JobCardDetails-sc-1mbmxes-5 ejlalk\") \n",
    " \n",
    "location = [link.get_text() for link in locate]\n",
    "\n",
    "# filter the list to return only those without white spaces.\n",
    "locations = []\n",
    "for ele in  location:\n",
    "    if ele.strip():\n",
    "        locations.append(ele)\n",
    "print(locations)"
   ]
  },
  {
   "cell_type": "code",
   "execution_count": 67,
   "metadata": {},
   "outputs": [
    {
     "name": "stdout",
     "output_type": "stream",
     "text": [
      "{'Copmany': ['SYSCO', 'Randstad USA', 'SYSCO', 'Verizon', 'Cox Automotive', 'Republic Finance', 'Virginia Commonwealth University', 'Stark County Community Action Agency', 'CHRISTUS Health'], 'location': ['Winchester, VA', 'Oakland, CA', 'Smyrna, GA', 'Remote, FL', 'Atlanta, GA', 'Union City, GA', 'Richmond, VA', 'Canton, OH', 'Houston, TX'], 'title': ['Finance Manager', 'Financial Analyst - Sr', 'Finance Analyst', 'Senior Financial Services Analyst', 'Senior Financial Analyst', 'Sr. Consumer Loan Specialist - Sales Customer Service', 'Senior Financial Technician', 'Finance Director', 'Patient Financial Specialist Lead - Hospital Collections']}\n"
     ]
    }
   ],
   "source": [
    "jobs = {\n",
    "    'Copmany': company_list,\n",
    "    'location': locations,\n",
    "    'title': job_title,\n",
    "    \n",
    "}\n",
    "print (jobs)"
   ]
  },
  {
   "cell_type": "code",
   "execution_count": 68,
   "metadata": {},
   "outputs": [
    {
     "data": {
      "text/plain": [
       "3"
      ]
     },
     "execution_count": 68,
     "metadata": {},
     "output_type": "execute_result"
    }
   ],
   "source": [
    "len(jobs)"
   ]
  },
  {
   "cell_type": "code",
   "execution_count": 69,
   "metadata": {},
   "outputs": [
    {
     "data": {
      "text/html": [
       "<div>\n",
       "<style scoped>\n",
       "    .dataframe tbody tr th:only-of-type {\n",
       "        vertical-align: middle;\n",
       "    }\n",
       "\n",
       "    .dataframe tbody tr th {\n",
       "        vertical-align: top;\n",
       "    }\n",
       "\n",
       "    .dataframe thead th {\n",
       "        text-align: right;\n",
       "    }\n",
       "</style>\n",
       "<table border=\"1\" class=\"dataframe\">\n",
       "  <thead>\n",
       "    <tr style=\"text-align: right;\">\n",
       "      <th></th>\n",
       "      <th>Copmany</th>\n",
       "      <th>location</th>\n",
       "      <th>title</th>\n",
       "    </tr>\n",
       "  </thead>\n",
       "  <tbody>\n",
       "    <tr>\n",
       "      <th>0</th>\n",
       "      <td>SYSCO</td>\n",
       "      <td>Winchester, VA</td>\n",
       "      <td>Finance Manager</td>\n",
       "    </tr>\n",
       "    <tr>\n",
       "      <th>1</th>\n",
       "      <td>Randstad USA</td>\n",
       "      <td>Oakland, CA</td>\n",
       "      <td>Financial Analyst - Sr</td>\n",
       "    </tr>\n",
       "    <tr>\n",
       "      <th>2</th>\n",
       "      <td>SYSCO</td>\n",
       "      <td>Smyrna, GA</td>\n",
       "      <td>Finance Analyst</td>\n",
       "    </tr>\n",
       "    <tr>\n",
       "      <th>3</th>\n",
       "      <td>Verizon</td>\n",
       "      <td>Remote, FL</td>\n",
       "      <td>Senior Financial Services Analyst</td>\n",
       "    </tr>\n",
       "    <tr>\n",
       "      <th>4</th>\n",
       "      <td>Cox Automotive</td>\n",
       "      <td>Atlanta, GA</td>\n",
       "      <td>Senior Financial Analyst</td>\n",
       "    </tr>\n",
       "    <tr>\n",
       "      <th>5</th>\n",
       "      <td>Republic Finance</td>\n",
       "      <td>Union City, GA</td>\n",
       "      <td>Sr. Consumer Loan Specialist - Sales Customer ...</td>\n",
       "    </tr>\n",
       "    <tr>\n",
       "      <th>6</th>\n",
       "      <td>Virginia Commonwealth University</td>\n",
       "      <td>Richmond, VA</td>\n",
       "      <td>Senior Financial Technician</td>\n",
       "    </tr>\n",
       "    <tr>\n",
       "      <th>7</th>\n",
       "      <td>Stark County Community Action Agency</td>\n",
       "      <td>Canton, OH</td>\n",
       "      <td>Finance Director</td>\n",
       "    </tr>\n",
       "    <tr>\n",
       "      <th>8</th>\n",
       "      <td>CHRISTUS Health</td>\n",
       "      <td>Houston, TX</td>\n",
       "      <td>Patient Financial Specialist Lead - Hospital C...</td>\n",
       "    </tr>\n",
       "  </tbody>\n",
       "</table>\n",
       "</div>"
      ],
      "text/plain": [
       "                                Copmany        location  \\\n",
       "0                                 SYSCO  Winchester, VA   \n",
       "1                          Randstad USA     Oakland, CA   \n",
       "2                                 SYSCO      Smyrna, GA   \n",
       "3                               Verizon      Remote, FL   \n",
       "4                        Cox Automotive     Atlanta, GA   \n",
       "5                      Republic Finance  Union City, GA   \n",
       "6      Virginia Commonwealth University    Richmond, VA   \n",
       "7  Stark County Community Action Agency      Canton, OH   \n",
       "8                       CHRISTUS Health     Houston, TX   \n",
       "\n",
       "                                               title  \n",
       "0                                    Finance Manager  \n",
       "1                             Financial Analyst - Sr  \n",
       "2                                    Finance Analyst  \n",
       "3                  Senior Financial Services Analyst  \n",
       "4                           Senior Financial Analyst  \n",
       "5  Sr. Consumer Loan Specialist - Sales Customer ...  \n",
       "6                        Senior Financial Technician  \n",
       "7                                   Finance Director  \n",
       "8  Patient Financial Specialist Lead - Hospital C...  "
      ]
     },
     "execution_count": 69,
     "metadata": {},
     "output_type": "execute_result"
    }
   ],
   "source": [
    "df = pd.DataFrame(jobs)\n",
    "\n",
    "df"
   ]
  },
  {
   "cell_type": "code",
   "execution_count": null,
   "metadata": {},
   "outputs": [],
   "source": []
  }
 ],
 "metadata": {
  "kernelspec": {
   "display_name": "Python 3",
   "language": "python",
   "name": "python3"
  },
  "language_info": {
   "codemirror_mode": {
    "name": "ipython",
    "version": 3
   },
   "file_extension": ".py",
   "mimetype": "text/x-python",
   "name": "python",
   "nbconvert_exporter": "python",
   "pygments_lexer": "ipython3",
   "version": "3.8.5"
  }
 },
 "nbformat": 4,
 "nbformat_minor": 4
}
